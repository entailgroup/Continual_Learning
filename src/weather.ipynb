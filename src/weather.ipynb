{
 "cells": [
  {
   "cell_type": "code",
   "execution_count": 2,
   "metadata": {},
   "outputs": [],
   "source": [
    "import os\n",
    "import time\n",
    "import pickle\n",
    "from datetime import datetime\n",
    "\n",
    "import numpy as np\n",
    "import pandas as pd\n",
    "from sklearn.preprocessing import MinMaxScaler\n",
    "\n",
    "from tqdm.notebook import tqdm\n",
    "\n",
    "import torch\n",
    "from torch import nn\n",
    "from torch.utils.data import TensorDataset, DataLoader\n",
    "from torch.optim.lr_scheduler import ExponentialLR\n",
    "\n",
    "from util_func import sMAPE, RMSE, MAE"
   ]
  },
  {
   "cell_type": "code",
   "execution_count": 3,
   "metadata": {},
   "outputs": [],
   "source": [
    "os.environ[\"CUDA_VISIBLE_DEVICES\"]=\"1\""
   ]
  },
  {
   "cell_type": "code",
   "execution_count": null,
   "metadata": {},
   "outputs": [],
   "source": [
    "def read_weather(data_root, force_reload=False):\n",
    "    try:\n",
    "        with open(data_root+\"loaded_dataset.pk\", 'rb') as f:\n",
    "            df = pickle.load(f)\n",
    "    except:\n",
    "        force_reload = True\n",
    "    \n",
    "    if force_reload:\n",
    "        df = pd.read_csv(data_root+\"ACISHourlyData-20180101-20211231.csv\")\n",
    "        df.drop(\"Station Name\", axis=1, inplace=True)\n",
    "        df[\"DATETIME\"] = df.apply(lambda x: datetime.strptime(str(x[\"DATE\"])+str(x[\"HOUR_ENDING\"]-1), \"%Y%m%d%H\"), axis=1)\n",
    "        df.drop(\"DATE\", axis=1, inplace=True)\n",
    "        df = df[[\"SITE_ID\", \"RATE_CLASS\", \"DATETIME\", \"IS_DAYLIGHT_SAVING\", \"CONSUMPTION_KWH\"]]\n",
    "        df.sort_values([\"SITE_ID\", \"DATETIME\"], ascending=True, inplace=True)\n",
    "\n",
    "        with open(data_root+\"loaded_dataset.pk\", 'wb') as f:\n",
    "            pickle.dump(df, f)\n",
    "\n",
    "    return df\n",
    "\n",
    "def preprocess_weather():\n",
    "    pass"
   ]
  },
  {
   "cell_type": "code",
   "execution_count": 4,
   "metadata": {},
   "outputs": [],
   "source": [
    "data_root = \"../Datasets/Time_Series_Datasets/Weather/Edmonton/\"\n",
    "df = pd.read_csv(data_root+\"ACISHourlyData-20180101-20211231.csv\")"
   ]
  },
  {
   "cell_type": "code",
   "execution_count": 8,
   "metadata": {},
   "outputs": [
    {
     "data": {
      "text/html": [
       "<div>\n",
       "<style scoped>\n",
       "    .dataframe tbody tr th:only-of-type {\n",
       "        vertical-align: middle;\n",
       "    }\n",
       "\n",
       "    .dataframe tbody tr th {\n",
       "        vertical-align: top;\n",
       "    }\n",
       "\n",
       "    .dataframe thead th {\n",
       "        text-align: right;\n",
       "    }\n",
       "</style>\n",
       "<table border=\"1\" class=\"dataframe\">\n",
       "  <thead>\n",
       "    <tr style=\"text-align: right;\">\n",
       "      <th></th>\n",
       "      <th>Station Name</th>\n",
       "      <th>Date (Local Standard Time)</th>\n",
       "      <th>Air Temp. Avg. (C)</th>\n",
       "      <th>Humidity Avg. (%)</th>\n",
       "      <th>Incoming Solar Rad. (W/m2)</th>\n",
       "      <th>Precip. Accumulated (mm)</th>\n",
       "      <th>Precip. (mm)</th>\n",
       "      <th>Snow Depth (cm)</th>\n",
       "      <th>Wind Speed 10 m Avg. (km/h)</th>\n",
       "    </tr>\n",
       "  </thead>\n",
       "  <tbody>\n",
       "    <tr>\n",
       "      <th>0</th>\n",
       "      <td>Edmonton South Campus UA</td>\n",
       "      <td>01-January-2018 00:00</td>\n",
       "      <td>-26.3</td>\n",
       "      <td>67.3</td>\n",
       "      <td>0.0</td>\n",
       "      <td>0.0</td>\n",
       "      <td>0.0</td>\n",
       "      <td>-0.8</td>\n",
       "      <td>8.5</td>\n",
       "    </tr>\n",
       "    <tr>\n",
       "      <th>1</th>\n",
       "      <td>Edmonton South Campus UA</td>\n",
       "      <td>01-January-2018 01:00</td>\n",
       "      <td>-26.6</td>\n",
       "      <td>67.9</td>\n",
       "      <td>0.0</td>\n",
       "      <td>0.0</td>\n",
       "      <td>0.0</td>\n",
       "      <td>-0.8</td>\n",
       "      <td>8.3</td>\n",
       "    </tr>\n",
       "    <tr>\n",
       "      <th>2</th>\n",
       "      <td>Edmonton South Campus UA</td>\n",
       "      <td>01-January-2018 02:00</td>\n",
       "      <td>-27.0</td>\n",
       "      <td>67.2</td>\n",
       "      <td>0.0</td>\n",
       "      <td>0.0</td>\n",
       "      <td>0.0</td>\n",
       "      <td>-0.7</td>\n",
       "      <td>9.0</td>\n",
       "    </tr>\n",
       "    <tr>\n",
       "      <th>3</th>\n",
       "      <td>Edmonton South Campus UA</td>\n",
       "      <td>01-January-2018 03:00</td>\n",
       "      <td>-27.2</td>\n",
       "      <td>67.6</td>\n",
       "      <td>0.0</td>\n",
       "      <td>0.0</td>\n",
       "      <td>0.0</td>\n",
       "      <td>-0.8</td>\n",
       "      <td>8.3</td>\n",
       "    </tr>\n",
       "    <tr>\n",
       "      <th>4</th>\n",
       "      <td>Edmonton South Campus UA</td>\n",
       "      <td>01-January-2018 04:00</td>\n",
       "      <td>-27.5</td>\n",
       "      <td>67.9</td>\n",
       "      <td>0.0</td>\n",
       "      <td>0.0</td>\n",
       "      <td>0.0</td>\n",
       "      <td>-0.7</td>\n",
       "      <td>8.4</td>\n",
       "    </tr>\n",
       "  </tbody>\n",
       "</table>\n",
       "</div>"
      ],
      "text/plain": [
       "               Station Name Date (Local Standard Time)  Air Temp. Avg. (C)  \\\n",
       "0  Edmonton South Campus UA      01-January-2018 00:00               -26.3   \n",
       "1  Edmonton South Campus UA      01-January-2018 01:00               -26.6   \n",
       "2  Edmonton South Campus UA      01-January-2018 02:00               -27.0   \n",
       "3  Edmonton South Campus UA      01-January-2018 03:00               -27.2   \n",
       "4  Edmonton South Campus UA      01-January-2018 04:00               -27.5   \n",
       "\n",
       "   Humidity Avg. (%)  Incoming Solar Rad. (W/m2)  Precip. Accumulated (mm)  \\\n",
       "0               67.3                         0.0                       0.0   \n",
       "1               67.9                         0.0                       0.0   \n",
       "2               67.2                         0.0                       0.0   \n",
       "3               67.6                         0.0                       0.0   \n",
       "4               67.9                         0.0                       0.0   \n",
       "\n",
       "   Precip. (mm)  Snow Depth (cm)  Wind Speed 10 m Avg. (km/h)  \n",
       "0           0.0             -0.8                          8.5  \n",
       "1           0.0             -0.8                          8.3  \n",
       "2           0.0             -0.7                          9.0  \n",
       "3           0.0             -0.8                          8.3  \n",
       "4           0.0             -0.7                          8.4  "
      ]
     },
     "execution_count": 8,
     "metadata": {},
     "output_type": "execute_result"
    }
   ],
   "source": [
    "df.head()"
   ]
  },
  {
   "cell_type": "code",
   "execution_count": 7,
   "metadata": {},
   "outputs": [
    {
     "data": {
      "text/plain": [
       "str"
      ]
     },
     "execution_count": 7,
     "metadata": {},
     "output_type": "execute_result"
    }
   ],
   "source": [
    "type(df.iloc[0][\"Date (Local Standard Time)\"])"
   ]
  },
  {
   "cell_type": "code",
   "execution_count": null,
   "metadata": {},
   "outputs": [],
   "source": []
  }
 ],
 "metadata": {
  "interpreter": {
   "hash": "cc5546ff5267140516859cc3c8e6ebbdcb51143debda87a527d4912ff07b95bf"
  },
  "kernelspec": {
   "display_name": "Python 3.8.10 64-bit ('tsf': venv)",
   "language": "python",
   "name": "python3"
  },
  "language_info": {
   "codemirror_mode": {
    "name": "ipython",
    "version": 3
   },
   "file_extension": ".py",
   "mimetype": "text/x-python",
   "name": "python",
   "nbconvert_exporter": "python",
   "pygments_lexer": "ipython3",
   "version": "3.8.10"
  },
  "orig_nbformat": 4
 },
 "nbformat": 4,
 "nbformat_minor": 2
}
